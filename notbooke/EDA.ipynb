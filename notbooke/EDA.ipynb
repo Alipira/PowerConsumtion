{
 "cells": [
  {
   "cell_type": "code",
   "execution_count": null,
   "id": "6f3ea583",
   "metadata": {},
   "outputs": [],
   "source": [
    "import pandas as pd\n",
    "import numpy as np\n",
    "import matplotlib.pyplot as plt\n",
    "import seaborn as sns\n",
    "import shap\n",
    "import mlflow\n",
    "\n",
    "from scipy.stats import entropy, shapiro, chi2_contingency, f_oneway\n",
    "from statsmodels.tsa.statespace.sarimax import SARIMAX\n",
    "from statsmodels.tsa.seasonal import STL\n",
    "from statsmodels.graphics.tsaplots import plot_acf, plot_pacf\n",
    "\n",
    "from prophet import Prophet\n",
    "\n",
    "from sklearn.cluster import KMeans\n",
    "from sklearn.ensemble import IsolationForest\n",
    "from sklearn.model_selection import train_test_split\n",
    "from sklearn.ensemble import RandomForestClassifier\n",
    "from sklearn.metrics import classification_report, confusion_matrix, roc_auc_score, ConfusionMatrixDisplay, roc_curve, auc, precision_recall_curve, average_precision_score, mean_absolute_error, mean_squared_error, r2_score\n",
    "from sklearn.preprocessing import label_binarize\n",
    "\n",
    "from sklearn.manifold import TSNE\n",
    "from tensorflow.keras.models import Sequential\n",
    "from tensorflow.keras.layers import LSTM, Dense"
   ]
  },
  {
   "cell_type": "code",
   "execution_count": null,
   "id": "56173b68",
   "metadata": {},
   "outputs": [],
   "source": [
    "def load_data(path: str) -> pd.DataFrame:\n",
    "    df = pd.read_csv(path)\n",
    "    df['timestamp'] = pd.to_datetime(df['timestamp'])\n",
    "    return df"
   ]
  },
  {
   "cell_type": "code",
   "execution_count": null,
   "id": "4ec97e29",
   "metadata": {},
   "outputs": [],
   "source": [
    "def plot_daily_weekly_cycles(df: pd.DataFrame, customer_id: int):\n",
    "    cust = df[df['MeterID'] == customer_id].set_index('timestamp')\n",
    "    # daily cycle\n",
    "    daily = cust['LastAverageValueOfImportActivePower'].groupby(cust.index.time).mean()\n",
    "    plt.figure()\n",
    "    plt.plot(daily.index.astype(str), daily.values)\n",
    "    plt.xticks(rotation=90)\n",
    "    plt.title(f\"Daily cycle for customer {customer_id}\")\n",
    "    plt.xlabel('Time of day')\n",
    "    plt.ylabel('Average Power')\n",
    "    plt.show()\n",
    "    # weekly cycle\n",
    "    weekly = cust['LastAverageValueOfImportActivePower'].groupby(cust.index.dayofweek).mean()\n",
    "    plt.figure()\n",
    "    plt.bar(weekly.index, weekly.values)\n",
    "    plt.title(f\"Weekly cycle for customer {customer_id}\")\n",
    "    plt.xlabel('Day of week')\n",
    "    plt.ylabel('Average Power')\n",
    "    plt.show()\n",
    "\n",
    "\n",
    "def compute_entropy(ts: pd.Series, bins: int = 50) -> float:\n",
    "    counts, _ = np.histogram(ts, bins=bins, density=False)\n",
    "    probs = counts / counts.sum()\n",
    "    return entropy(probs, base=2)\n",
    "\n",
    "\n",
    "def plot_entropy_all(df: pd.DataFrame):\n",
    "    ent = df.groupby('MeterID')['LastAverageValueOfImportActivePower'].apply(compute_entropy)\n",
    "    ent.plot(kind='hist', bins=20)\n",
    "    plt.title('Distribution of Entropy across customers')\n",
    "    plt.xlabel('Entropy')\n",
    "    plt.show()\n",
    "\n",
    "\n",
    "def cluster_load_shapes(df: pd.DataFrame, n_clusters: int = 2):\n",
    "    # extract daily load shapes\n",
    "    pivot = df.pivot_table(values='LastAverageValueOfImportActivePower', index='MeterID', columns=df['timestamp'].dt.hour * 4 + df['timestamp'].dt.minute // 15)\n",
    "    kmeans = KMeans(n_clusters=n_clusters, random_state=0).fit(pivot.fillna(0))\n",
    "    return kmeans.labels_"
   ]
  },
  {
   "cell_type": "code",
   "execution_count": null,
   "id": "f4b8d173",
   "metadata": {},
   "outputs": [],
   "source": [
    "df = load_data('../data/smart_meter_data_with_ntl.csv')\n",
    "plot_daily_weekly_cycles(df, customer_id=1)\n",
    "plot_entropy_all(df)"
   ]
  },
  {
   "cell_type": "code",
   "execution_count": null,
   "id": "d1506c27",
   "metadata": {},
   "outputs": [],
   "source": [
    "labels = cluster_load_shapes(df)\n",
    "df['cluster'] = df['MeterID'].map(dict(zip(df['MeterID'].unique(), labels)))"
   ]
  },
  {
   "cell_type": "code",
   "execution_count": null,
   "id": "f35d6e57",
   "metadata": {},
   "outputs": [],
   "source": [
    "df.info()"
   ]
  },
  {
   "cell_type": "code",
   "execution_count": null,
   "id": "c08a70d8",
   "metadata": {},
   "outputs": [],
   "source": [
    "df.describe().T"
   ]
  },
  {
   "cell_type": "code",
   "execution_count": null,
   "id": "7d7495ec",
   "metadata": {},
   "outputs": [],
   "source": [
    "_, axis = plt.subplots(nrows=2, ncols=2, figsize=(15.5, 7.5))\n",
    "\n",
    "# Voltage and current\n",
    "sns.histplot(\n",
    "    data=df,\n",
    "x='LastAverageValueOfCurrent', ax=axis[0, 0], hue='NTL_Type',\n",
    ")\n",
    "\n",
    "sns.histplot(\n",
    "    data=df,\n",
    "x='LastAverageValueOfVoltageL', ax=axis[0, 1], hue='NTL_Type'\n",
    ")\n",
    "\n",
    "# power\n",
    "sns.histplot(\n",
    "    data=df,\n",
    "x='LastAverageValueOfPFTotal', ax=axis[1, 0], hue='NTL_Type'\n",
    ")\n",
    "\n",
    "sns.histplot(\n",
    "    data=df,\n",
    "x='LastAverageValueOfImportActivePower', ax=axis[1, 1], hue='NTL_Type'\n",
    ")\n",
    "\n",
    "plt.tight_layout()"
   ]
  },
  {
   "cell_type": "markdown",
   "id": "b3ee2ab6",
   "metadata": {},
   "source": [
    "## Left Plot: `LastAverageValueOfCurrent`\n",
    "\n",
    "- **Shape**: Strong right skew (long tail to the right).\n",
    "\n",
    "### Modes:\n",
    "- A very strong peak near **0 A** (likely many devices are off or in standby).\n",
    "- A secondary mode around **3-4 A**, which likely represents typical operating current.\n",
    "\n",
    "### Interpretation:\n",
    "- Most devices either draw very low current (possibly idle) or a moderate current.\n",
    "- The long tail up to ~**17 A** may represent higher-load appliances or noise/outliers.\n",
    "\n",
    "### Possible NTL (Non-Technical Loss) Insight:\n",
    "- If current is high but corresponding energy usage is missing or low, this could suggest **bypass or tampering**.\n",
    "\n",
    "---\n",
    "\n",
    "## Right Plot: `LastAverageValueOfVoltageL`\n",
    "\n",
    "- **Shape**: Approximately Gaussian (normal distribution).\n",
    "- **Centered around**: ~**215V** (with a range from ~**200V to 230V**).\n",
    "\n",
    "### Interpretation:\n",
    "- This is expected for a well-functioning low-voltage distribution system  \n",
    "  (in many countries, **220V ±10%** is acceptable).\n",
    "- Less suspicious behavior here unless voltage drops/cut-offs correlate with **abnormal current patterns**."
   ]
  },
  {
   "cell_type": "code",
   "execution_count": null,
   "id": "c52eaab8",
   "metadata": {},
   "outputs": [],
   "source": [
    "# take log of the above plot\n",
    "\n",
    "_, axis = plt.subplots(nrows=2, ncols=2, figsize=(15.5, 7.5))\n",
    "\n",
    "# Voltage and current\n",
    "sns.histplot(\n",
    "    data=df,\n",
    "x=np.log10(df['LastAverageValueOfCurrent']), ax=axis[0, 0], hue='NTL_Type',\n",
    ")\n",
    "\n",
    "sns.histplot(\n",
    "    data=df,\n",
    "x=np.log10(df['LastAverageValueOfVoltageL']), ax=axis[0, 1], hue='NTL_Type'\n",
    ")\n",
    "\n",
    "# power\n",
    "sns.histplot(\n",
    "    data=df,\n",
    "x=np.log10(df['LastAverageValueOfPFTotal']), ax=axis[1, 0], hue='NTL_Type'\n",
    ")\n",
    "\n",
    "sns.histplot(\n",
    "    data=df,\n",
    "x=np.log10(df['LastAverageValueOfImportActivePower']), ax=axis[1, 1], hue='NTL_Type'\n",
    ")\n",
    "\n",
    "plt.tight_layout()"
   ]
  },
  {
   "cell_type": "code",
   "execution_count": null,
   "id": "ced85c19",
   "metadata": {},
   "outputs": [],
   "source": [
    "plt.figure(figsize=(15, 7.5))\n",
    "\n",
    "ax = sns.scatterplot(\n",
    "        data=df,\n",
    "        x='LastAverageValueOfCurrent', y='LastAverageValueOfImportActivePower',\n",
    "        hue='NTL_Type', alpha=0.5\n",
    "    )\n",
    "\n",
    "plt.xscale('log')\n",
    "plt.yscale('log')\n",
    "\n",
    "sns.move_legend(ax, \"upper right\")"
   ]
  },
  {
   "cell_type": "code",
   "execution_count": null,
   "id": "a2dfc505",
   "metadata": {},
   "outputs": [],
   "source": [
    "plt.figure(figsize=(15, 7.5))\n",
    "ax = sns.scatterplot(\n",
    "    data=df,\n",
    "    x='LastAverageValueOfCurrent',\n",
    "    y='LastAverageValueOfImportActivePower',\n",
    "    hue='NTL_Type',\n",
    "    alpha=0.5,\n",
    "    palette='colorblind'\n",
    ")\n",
    "\n",
    "sns.move_legend(ax, 'upper left')"
   ]
  },
  {
   "cell_type": "code",
   "execution_count": null,
   "id": "9f7269df",
   "metadata": {},
   "outputs": [],
   "source": [
    "plt.figure(figsize=(15, 7.5))\n",
    "g = sns.FacetGrid(df, col='NTL_Type')\n",
    "g.map_dataframe(sns.scatterplot, x='LastAverageValueOfCurrent', y='LastAverageValueOfImportActivePower',\n",
    "                alpha=0.5)"
   ]
  },
  {
   "cell_type": "code",
   "execution_count": null,
   "id": "13287bd2",
   "metadata": {},
   "outputs": [],
   "source": [
    "numerics = df.select_dtypes(include='number').drop(columns=['MeterID', 'Phase', 'cluster', 'ReactiveCumulativeEnergyImport(+R)'])\n",
    "sns.heatmap(numerics.corr(), annot=True, cmap='coolwarm')"
   ]
  }
 ],
 "metadata": {
  "kernelspec": {
   "display_name": "base",
   "language": "python",
   "name": "python3"
  },
  "language_info": {
   "codemirror_mode": {
    "name": "ipython",
    "version": 3
   },
   "file_extension": ".py",
   "mimetype": "text/x-python",
   "name": "python",
   "nbconvert_exporter": "python",
   "pygments_lexer": "ipython3",
   "version": "3.11.7"
  }
 },
 "nbformat": 4,
 "nbformat_minor": 5
}
