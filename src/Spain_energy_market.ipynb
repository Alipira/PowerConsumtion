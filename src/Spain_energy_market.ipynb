{
 "cells": [
  {
   "cell_type": "code",
   "execution_count": 90,
   "metadata": {},
   "outputs": [],
   "source": [
    "import pandas as pd\n",
    "import numpy as np\n",
    "import matplotlib.pyplot as plt\n",
    "import seaborn as sns\n",
    "\n",
    "from scipy.stats import skew, kurtosis, shapiro\n",
    "\n",
    "%matplotlib inline"
   ]
  },
  {
   "cell_type": "markdown",
   "metadata": {},
   "source": [
    "### Load dataset of Spain Energy Market\n",
    "- check dataset\n",
    "- EDA\n",
    "- plots"
   ]
  },
  {
   "cell_type": "code",
   "execution_count": 26,
   "metadata": {},
   "outputs": [],
   "source": [
    "df = pd.read_csv('../data/spain_energy_market.csv', low_memory=True)"
   ]
  },
  {
   "cell_type": "code",
   "execution_count": 4,
   "metadata": {},
   "outputs": [
    {
     "data": {
      "text/html": [
       "<div>\n",
       "<style scoped>\n",
       "    .dataframe tbody tr th:only-of-type {\n",
       "        vertical-align: middle;\n",
       "    }\n",
       "\n",
       "    .dataframe tbody tr th {\n",
       "        vertical-align: top;\n",
       "    }\n",
       "\n",
       "    .dataframe thead th {\n",
       "        text-align: right;\n",
       "    }\n",
       "</style>\n",
       "<table border=\"1\" class=\"dataframe\">\n",
       "  <thead>\n",
       "    <tr style=\"text-align: right;\">\n",
       "      <th></th>\n",
       "      <th>datetime</th>\n",
       "      <th>id</th>\n",
       "      <th>name</th>\n",
       "      <th>geoid</th>\n",
       "      <th>geoname</th>\n",
       "      <th>value</th>\n",
       "    </tr>\n",
       "  </thead>\n",
       "  <tbody>\n",
       "    <tr>\n",
       "      <th>0</th>\n",
       "      <td>2014-01-01 23:00:00</td>\n",
       "      <td>600</td>\n",
       "      <td>Precio mercado SPOT Diario ESP</td>\n",
       "      <td>3.0</td>\n",
       "      <td>España</td>\n",
       "      <td>25.280833</td>\n",
       "    </tr>\n",
       "    <tr>\n",
       "      <th>1</th>\n",
       "      <td>2014-01-02 23:00:00</td>\n",
       "      <td>600</td>\n",
       "      <td>Precio mercado SPOT Diario ESP</td>\n",
       "      <td>3.0</td>\n",
       "      <td>España</td>\n",
       "      <td>39.924167</td>\n",
       "    </tr>\n",
       "    <tr>\n",
       "      <th>2</th>\n",
       "      <td>2014-01-03 23:00:00</td>\n",
       "      <td>600</td>\n",
       "      <td>Precio mercado SPOT Diario ESP</td>\n",
       "      <td>3.0</td>\n",
       "      <td>España</td>\n",
       "      <td>4.992083</td>\n",
       "    </tr>\n",
       "    <tr>\n",
       "      <th>3</th>\n",
       "      <td>2014-01-04 23:00:00</td>\n",
       "      <td>600</td>\n",
       "      <td>Precio mercado SPOT Diario ESP</td>\n",
       "      <td>3.0</td>\n",
       "      <td>España</td>\n",
       "      <td>4.091667</td>\n",
       "    </tr>\n",
       "    <tr>\n",
       "      <th>4</th>\n",
       "      <td>2014-01-05 23:00:00</td>\n",
       "      <td>600</td>\n",
       "      <td>Precio mercado SPOT Diario ESP</td>\n",
       "      <td>3.0</td>\n",
       "      <td>España</td>\n",
       "      <td>13.587500</td>\n",
       "    </tr>\n",
       "  </tbody>\n",
       "</table>\n",
       "</div>"
      ],
      "text/plain": [
       "              datetime   id                            name  geoid geoname  \\\n",
       "0  2014-01-01 23:00:00  600  Precio mercado SPOT Diario ESP    3.0  España   \n",
       "1  2014-01-02 23:00:00  600  Precio mercado SPOT Diario ESP    3.0  España   \n",
       "2  2014-01-03 23:00:00  600  Precio mercado SPOT Diario ESP    3.0  España   \n",
       "3  2014-01-04 23:00:00  600  Precio mercado SPOT Diario ESP    3.0  España   \n",
       "4  2014-01-05 23:00:00  600  Precio mercado SPOT Diario ESP    3.0  España   \n",
       "\n",
       "       value  \n",
       "0  25.280833  \n",
       "1  39.924167  \n",
       "2   4.992083  \n",
       "3   4.091667  \n",
       "4  13.587500  "
      ]
     },
     "execution_count": 4,
     "metadata": {},
     "output_type": "execute_result"
    }
   ],
   "source": [
    "df.head()"
   ]
  },
  {
   "cell_type": "code",
   "execution_count": 5,
   "metadata": {},
   "outputs": [
    {
     "data": {
      "text/html": [
       "<div>\n",
       "<style scoped>\n",
       "    .dataframe tbody tr th:only-of-type {\n",
       "        vertical-align: middle;\n",
       "    }\n",
       "\n",
       "    .dataframe tbody tr th {\n",
       "        vertical-align: top;\n",
       "    }\n",
       "\n",
       "    .dataframe thead th {\n",
       "        text-align: right;\n",
       "    }\n",
       "</style>\n",
       "<table border=\"1\" class=\"dataframe\">\n",
       "  <thead>\n",
       "    <tr style=\"text-align: right;\">\n",
       "      <th></th>\n",
       "      <th>datetime</th>\n",
       "      <th>id</th>\n",
       "      <th>name</th>\n",
       "      <th>geoid</th>\n",
       "      <th>geoname</th>\n",
       "      <th>value</th>\n",
       "    </tr>\n",
       "  </thead>\n",
       "  <tbody>\n",
       "    <tr>\n",
       "      <th>40207</th>\n",
       "      <td>2018-12-27 23:00:00</td>\n",
       "      <td>3</td>\n",
       "      <td>Generación programada PBF Turbinación bombeo</td>\n",
       "      <td>NaN</td>\n",
       "      <td>NaN</td>\n",
       "      <td>8838.0</td>\n",
       "    </tr>\n",
       "    <tr>\n",
       "      <th>40208</th>\n",
       "      <td>2018-12-28 23:00:00</td>\n",
       "      <td>3</td>\n",
       "      <td>Generación programada PBF Turbinación bombeo</td>\n",
       "      <td>NaN</td>\n",
       "      <td>NaN</td>\n",
       "      <td>8738.8</td>\n",
       "    </tr>\n",
       "    <tr>\n",
       "      <th>40209</th>\n",
       "      <td>2018-12-29 23:00:00</td>\n",
       "      <td>3</td>\n",
       "      <td>Generación programada PBF Turbinación bombeo</td>\n",
       "      <td>NaN</td>\n",
       "      <td>NaN</td>\n",
       "      <td>9020.0</td>\n",
       "    </tr>\n",
       "    <tr>\n",
       "      <th>40210</th>\n",
       "      <td>2018-12-30 23:00:00</td>\n",
       "      <td>3</td>\n",
       "      <td>Generación programada PBF Turbinación bombeo</td>\n",
       "      <td>NaN</td>\n",
       "      <td>NaN</td>\n",
       "      <td>8466.2</td>\n",
       "    </tr>\n",
       "    <tr>\n",
       "      <th>40211</th>\n",
       "      <td>2018-12-31 23:00:00</td>\n",
       "      <td>3</td>\n",
       "      <td>Generación programada PBF Turbinación bombeo</td>\n",
       "      <td>NaN</td>\n",
       "      <td>NaN</td>\n",
       "      <td>10764.0</td>\n",
       "    </tr>\n",
       "  </tbody>\n",
       "</table>\n",
       "</div>"
      ],
      "text/plain": [
       "                  datetime  id                                          name  \\\n",
       "40207  2018-12-27 23:00:00   3  Generación programada PBF Turbinación bombeo   \n",
       "40208  2018-12-28 23:00:00   3  Generación programada PBF Turbinación bombeo   \n",
       "40209  2018-12-29 23:00:00   3  Generación programada PBF Turbinación bombeo   \n",
       "40210  2018-12-30 23:00:00   3  Generación programada PBF Turbinación bombeo   \n",
       "40211  2018-12-31 23:00:00   3  Generación programada PBF Turbinación bombeo   \n",
       "\n",
       "       geoid geoname    value  \n",
       "40207    NaN     NaN   8838.0  \n",
       "40208    NaN     NaN   8738.8  \n",
       "40209    NaN     NaN   9020.0  \n",
       "40210    NaN     NaN   8466.2  \n",
       "40211    NaN     NaN  10764.0  "
      ]
     },
     "execution_count": 5,
     "metadata": {},
     "output_type": "execute_result"
    }
   ],
   "source": [
    "df.tail()"
   ]
  },
  {
   "cell_type": "code",
   "execution_count": 6,
   "metadata": {},
   "outputs": [
    {
     "name": "stdout",
     "output_type": "stream",
     "text": [
      "<class 'pandas.core.frame.DataFrame'>\n",
      "RangeIndex: 40212 entries, 0 to 40211\n",
      "Data columns (total 6 columns):\n",
      " #   Column    Non-Null Count  Dtype  \n",
      "---  ------    --------------  -----  \n",
      " 0   datetime  40212 non-null  object \n",
      " 1   id        40212 non-null  int64  \n",
      " 2   name      34734 non-null  object \n",
      " 3   geoid     10956 non-null  float64\n",
      " 4   geoname   10956 non-null  object \n",
      " 5   value     40212 non-null  float64\n",
      "dtypes: float64(2), int64(1), object(3)\n",
      "memory usage: 1.8+ MB\n"
     ]
    }
   ],
   "source": [
    "df.info()"
   ]
  },
  {
   "cell_type": "code",
   "execution_count": 54,
   "metadata": {},
   "outputs": [],
   "source": [
    "df = df.astype(\n",
    "    {\n",
    "        'geoname': 'category',\n",
    "        'name': 'category',\n",
    "    }\n",
    ")"
   ]
  },
  {
   "cell_type": "code",
   "execution_count": 56,
   "metadata": {},
   "outputs": [],
   "source": [
    "df['datetime'] = pd.to_datetime(df.datetime)"
   ]
  },
  {
   "cell_type": "code",
   "execution_count": 32,
   "metadata": {},
   "outputs": [],
   "source": [
    "mapper = {\n",
    "    \"Demanda programada PBF total\": \"Schedulled Total Demand(MWh)\",\n",
    "    \"Demanda real\": \"Actual demanded power(MW)\",\n",
    "    \"Energía asignada en Mercado SPOT Diario España\": \"Energy traded in daily spot Spanish market(MWh)\",\n",
    "    \"Energía asignada en Mercado SPOT Diario Francia\": \"Energy traded in daily spot French market(MWh)\",\n",
    "    \"Generación programada PBF Carbón\": \"Schedulled Coal electricity generation(MWh)\",\n",
    "    \"Generación programada PBF Ciclo combinado\": \"Schedulled Combined Cycle electricity generation(MWh)\",\n",
    "    \"Generación programada PBF Eólica\": \"Schedulled Wind electricity generation(MWh)\",\n",
    "    \"Generación programada PBF Gas Natural Cogeneración\": \"Schedulled Natural Gas electricity Co-generation(MWh)\",\n",
    "    \"Generación programada PBF Nuclear\": \"Schedulled Nuclear electricity generation(MWh)\",\n",
    "    \"Generación programada PBF Solar fotovoltaica\": \"Schedulled Photovoltaic electricity generation(MWh)\",\n",
    "    \"Generación programada PBF Turbinación bombeo\": \"Schedulled Reversible-Hydro electricity generation(MWh)\",\n",
    "    \"Generación programada PBF UGH + no UGH\": \"Schedulled Total Hydro electricity generation(MWh)\",\n",
    "    \"Generación programada PBF total\": \"Schedulled Total electricity generation(MWh)\",\n",
    "    \"Precio mercado SPOT Diario ESP\": \"Daily spot Spain market price(€/MWh)\",\n",
    "    \"Precio mercado SPOT Diario FRA\": \"Daily spot France market price(€/MWh)\",\n",
    "    \"Precio mercado SPOT Diario POR\": \"Daily spot Portugal market price(€/MWh)\",\n",
    "    \"Rentas de congestión mecanismos implícitos diario Francia exportación\": \"Daily spot export from France price(€/MWh)\",\n",
    "    \"Rentas de congestión mecanismos implícitos diario Francia importación\": \"Daily spot import to France price(€/MWh)\",\n",
    "    \"Rentas de congestión mecanismos implícitos diario Portugal exportación\": \"Daily spot export from Portugal price(€/MWh)\",\n",
    "    \"Rentas de congestión mecanismos implícitos diario Portugal importación\": \"Daily spot import to Portugal price(€/MWh)\"\n",
    "}"
   ]
  },
  {
   "cell_type": "code",
   "execution_count": 33,
   "metadata": {},
   "outputs": [],
   "source": [
    "df.replace({'name': mapper}, inplace=True)"
   ]
  },
  {
   "cell_type": "code",
   "execution_count": 69,
   "metadata": {},
   "outputs": [],
   "source": [
    "df['doy'] = df['datetime'].dt.day_of_year\n",
    "df['dow'] = df['datetime'].dt.day_of_week\n",
    "df['month'] = df['datetime'].dt.month\n",
    "df['year'] = df['datetime'].dt.year\n",
    "df['qoy'] = df['datetime'].dt.quarter"
   ]
  },
  {
   "cell_type": "code",
   "execution_count": 75,
   "metadata": {},
   "outputs": [],
   "source": [
    "df.set_index('datetime', inplace=True)"
   ]
  },
  {
   "cell_type": "code",
   "execution_count": 93,
   "metadata": {},
   "outputs": [
    {
     "data": {
      "text/html": [
       "<div>\n",
       "<style scoped>\n",
       "    .dataframe tbody tr th:only-of-type {\n",
       "        vertical-align: middle;\n",
       "    }\n",
       "\n",
       "    .dataframe tbody tr th {\n",
       "        vertical-align: top;\n",
       "    }\n",
       "\n",
       "    .dataframe thead th {\n",
       "        text-align: right;\n",
       "    }\n",
       "</style>\n",
       "<table border=\"1\" class=\"dataframe\">\n",
       "  <thead>\n",
       "    <tr style=\"text-align: right;\">\n",
       "      <th></th>\n",
       "      <th>id</th>\n",
       "      <th>name</th>\n",
       "      <th>geoid</th>\n",
       "      <th>geoname</th>\n",
       "      <th>value</th>\n",
       "      <th>doy</th>\n",
       "      <th>dow</th>\n",
       "      <th>month</th>\n",
       "      <th>year</th>\n",
       "      <th>qoy</th>\n",
       "    </tr>\n",
       "    <tr>\n",
       "      <th>datetime</th>\n",
       "      <th></th>\n",
       "      <th></th>\n",
       "      <th></th>\n",
       "      <th></th>\n",
       "      <th></th>\n",
       "      <th></th>\n",
       "      <th></th>\n",
       "      <th></th>\n",
       "      <th></th>\n",
       "      <th></th>\n",
       "    </tr>\n",
       "  </thead>\n",
       "  <tbody>\n",
       "    <tr>\n",
       "      <th>2014-01-01 23:00:00</th>\n",
       "      <td>600</td>\n",
       "      <td>Daily spot Spain market price(€/MWh)</td>\n",
       "      <td>3.0</td>\n",
       "      <td>España</td>\n",
       "      <td>25.280833</td>\n",
       "      <td>1</td>\n",
       "      <td>2</td>\n",
       "      <td>1</td>\n",
       "      <td>2014</td>\n",
       "      <td>1</td>\n",
       "    </tr>\n",
       "    <tr>\n",
       "      <th>2014-01-02 23:00:00</th>\n",
       "      <td>600</td>\n",
       "      <td>Daily spot Spain market price(€/MWh)</td>\n",
       "      <td>3.0</td>\n",
       "      <td>España</td>\n",
       "      <td>39.924167</td>\n",
       "      <td>2</td>\n",
       "      <td>3</td>\n",
       "      <td>1</td>\n",
       "      <td>2014</td>\n",
       "      <td>1</td>\n",
       "    </tr>\n",
       "    <tr>\n",
       "      <th>2014-01-03 23:00:00</th>\n",
       "      <td>600</td>\n",
       "      <td>Daily spot Spain market price(€/MWh)</td>\n",
       "      <td>3.0</td>\n",
       "      <td>España</td>\n",
       "      <td>4.992083</td>\n",
       "      <td>3</td>\n",
       "      <td>4</td>\n",
       "      <td>1</td>\n",
       "      <td>2014</td>\n",
       "      <td>1</td>\n",
       "    </tr>\n",
       "    <tr>\n",
       "      <th>2014-01-04 23:00:00</th>\n",
       "      <td>600</td>\n",
       "      <td>Daily spot Spain market price(€/MWh)</td>\n",
       "      <td>3.0</td>\n",
       "      <td>España</td>\n",
       "      <td>4.091667</td>\n",
       "      <td>4</td>\n",
       "      <td>5</td>\n",
       "      <td>1</td>\n",
       "      <td>2014</td>\n",
       "      <td>1</td>\n",
       "    </tr>\n",
       "    <tr>\n",
       "      <th>2014-01-05 23:00:00</th>\n",
       "      <td>600</td>\n",
       "      <td>Daily spot Spain market price(€/MWh)</td>\n",
       "      <td>3.0</td>\n",
       "      <td>España</td>\n",
       "      <td>13.587500</td>\n",
       "      <td>5</td>\n",
       "      <td>6</td>\n",
       "      <td>1</td>\n",
       "      <td>2014</td>\n",
       "      <td>1</td>\n",
       "    </tr>\n",
       "    <tr>\n",
       "      <th>...</th>\n",
       "      <td>...</td>\n",
       "      <td>...</td>\n",
       "      <td>...</td>\n",
       "      <td>...</td>\n",
       "      <td>...</td>\n",
       "      <td>...</td>\n",
       "      <td>...</td>\n",
       "      <td>...</td>\n",
       "      <td>...</td>\n",
       "      <td>...</td>\n",
       "    </tr>\n",
       "    <tr>\n",
       "      <th>2018-12-27 23:00:00</th>\n",
       "      <td>3</td>\n",
       "      <td>Schedulled Reversible-Hydro electricity genera...</td>\n",
       "      <td>NaN</td>\n",
       "      <td>NaN</td>\n",
       "      <td>8838.000000</td>\n",
       "      <td>361</td>\n",
       "      <td>3</td>\n",
       "      <td>12</td>\n",
       "      <td>2018</td>\n",
       "      <td>4</td>\n",
       "    </tr>\n",
       "    <tr>\n",
       "      <th>2018-12-28 23:00:00</th>\n",
       "      <td>3</td>\n",
       "      <td>Schedulled Reversible-Hydro electricity genera...</td>\n",
       "      <td>NaN</td>\n",
       "      <td>NaN</td>\n",
       "      <td>8738.800000</td>\n",
       "      <td>362</td>\n",
       "      <td>4</td>\n",
       "      <td>12</td>\n",
       "      <td>2018</td>\n",
       "      <td>4</td>\n",
       "    </tr>\n",
       "    <tr>\n",
       "      <th>2018-12-29 23:00:00</th>\n",
       "      <td>3</td>\n",
       "      <td>Schedulled Reversible-Hydro electricity genera...</td>\n",
       "      <td>NaN</td>\n",
       "      <td>NaN</td>\n",
       "      <td>9020.000000</td>\n",
       "      <td>363</td>\n",
       "      <td>5</td>\n",
       "      <td>12</td>\n",
       "      <td>2018</td>\n",
       "      <td>4</td>\n",
       "    </tr>\n",
       "    <tr>\n",
       "      <th>2018-12-30 23:00:00</th>\n",
       "      <td>3</td>\n",
       "      <td>Schedulled Reversible-Hydro electricity genera...</td>\n",
       "      <td>NaN</td>\n",
       "      <td>NaN</td>\n",
       "      <td>8466.200000</td>\n",
       "      <td>364</td>\n",
       "      <td>6</td>\n",
       "      <td>12</td>\n",
       "      <td>2018</td>\n",
       "      <td>4</td>\n",
       "    </tr>\n",
       "    <tr>\n",
       "      <th>2018-12-31 23:00:00</th>\n",
       "      <td>3</td>\n",
       "      <td>Schedulled Reversible-Hydro electricity genera...</td>\n",
       "      <td>NaN</td>\n",
       "      <td>NaN</td>\n",
       "      <td>10764.000000</td>\n",
       "      <td>365</td>\n",
       "      <td>0</td>\n",
       "      <td>12</td>\n",
       "      <td>2018</td>\n",
       "      <td>4</td>\n",
       "    </tr>\n",
       "  </tbody>\n",
       "</table>\n",
       "<p>40212 rows × 10 columns</p>\n",
       "</div>"
      ],
      "text/plain": [
       "                      id                                               name  \\\n",
       "datetime                                                                      \n",
       "2014-01-01 23:00:00  600               Daily spot Spain market price(€/MWh)   \n",
       "2014-01-02 23:00:00  600               Daily spot Spain market price(€/MWh)   \n",
       "2014-01-03 23:00:00  600               Daily spot Spain market price(€/MWh)   \n",
       "2014-01-04 23:00:00  600               Daily spot Spain market price(€/MWh)   \n",
       "2014-01-05 23:00:00  600               Daily spot Spain market price(€/MWh)   \n",
       "...                  ...                                                ...   \n",
       "2018-12-27 23:00:00    3  Schedulled Reversible-Hydro electricity genera...   \n",
       "2018-12-28 23:00:00    3  Schedulled Reversible-Hydro electricity genera...   \n",
       "2018-12-29 23:00:00    3  Schedulled Reversible-Hydro electricity genera...   \n",
       "2018-12-30 23:00:00    3  Schedulled Reversible-Hydro electricity genera...   \n",
       "2018-12-31 23:00:00    3  Schedulled Reversible-Hydro electricity genera...   \n",
       "\n",
       "                     geoid geoname         value  doy  dow  month  year  qoy  \n",
       "datetime                                                                      \n",
       "2014-01-01 23:00:00    3.0  España     25.280833    1    2      1  2014    1  \n",
       "2014-01-02 23:00:00    3.0  España     39.924167    2    3      1  2014    1  \n",
       "2014-01-03 23:00:00    3.0  España      4.992083    3    4      1  2014    1  \n",
       "2014-01-04 23:00:00    3.0  España      4.091667    4    5      1  2014    1  \n",
       "2014-01-05 23:00:00    3.0  España     13.587500    5    6      1  2014    1  \n",
       "...                    ...     ...           ...  ...  ...    ...   ...  ...  \n",
       "2018-12-27 23:00:00    NaN     NaN   8838.000000  361    3     12  2018    4  \n",
       "2018-12-28 23:00:00    NaN     NaN   8738.800000  362    4     12  2018    4  \n",
       "2018-12-29 23:00:00    NaN     NaN   9020.000000  363    5     12  2018    4  \n",
       "2018-12-30 23:00:00    NaN     NaN   8466.200000  364    6     12  2018    4  \n",
       "2018-12-31 23:00:00    NaN     NaN  10764.000000  365    0     12  2018    4  \n",
       "\n",
       "[40212 rows x 10 columns]"
      ]
     },
     "execution_count": 93,
     "metadata": {},
     "output_type": "execute_result"
    }
   ],
   "source": [
    "df"
   ]
  },
  {
   "cell_type": "code",
   "execution_count": 82,
   "metadata": {},
   "outputs": [
    {
     "data": {
      "text/plain": [
       "count    4.021200e+04\n",
       "mean     1.325967e+05\n",
       "std      2.147129e+05\n",
       "min     -1.426133e+06\n",
       "25%      5.112708e+01\n",
       "50%      2.778778e+04\n",
       "75%      1.615399e+05\n",
       "max      2.584390e+06\n",
       "Name: value, dtype: float64"
      ]
     },
     "execution_count": 82,
     "metadata": {},
     "output_type": "execute_result"
    }
   ],
   "source": [
    "df['value'].describe()"
   ]
  },
  {
   "cell_type": "code",
   "execution_count": null,
   "metadata": {},
   "outputs": [],
   "source": [
    "mean = np.mean(df.values)\n",
    "std = np.std(df.values)\n",
    "skew = skew(df.values)\n",
    "ex_kurt = kurtosis(df.values)\n",
    "print(\"Skewness: {} \\nKurtosis: {}\".format(skew, ex_kurt+3))"
   ]
  },
  {
   "cell_type": "code",
   "execution_count": null,
   "metadata": {},
   "outputs": [],
   "source": [
    "def shapiro_test(data, alpha=0.05):\n",
    "    stat, pval = shapiro(data)\n",
    "    print(\"H0: Data was drawn from a Normal Ditribution\")\n",
    "    if (pval<alpha):\n",
    "        print(\"pval {} is lower than significance level: {}, therefore null hypothesis is rejected\".format(pval, alpha))\n",
    "    else:\n",
    "        print(\"pval {} is higher than significance level: {}, therefore null hypothesis cannot be rejected\".format(pval, alpha))\n",
    "\n",
    "shapiro_test(data.energy, alpha=0.05)"
   ]
  },
  {
   "cell_type": "code",
   "execution_count": null,
   "metadata": {},
   "outputs": [],
   "source": [
    "sns.distplot(df.value)\n",
    "plt.title(\"Target Analysis\")\n",
    "plt.xticks(rotation=45)\n",
    "plt.xlabel(\"(MWh)\")\n",
    "plt.axvline(x=mean, color='r', linestyle='-', label=\"\\mu: {0:.2f}%\".format(mean))\n",
    "plt.axvline(x=mean + 2 * std, color='orange', linestyle='-')\n",
    "plt.axvline(x=mean - 2 * std, color='orange', linestyle='-')\n",
    "plt.show()"
   ]
  },
  {
   "cell_type": "code",
   "execution_count": 92,
   "metadata": {},
   "outputs": [
    {
     "data": {
      "text/plain": [
       "<Axes: xlabel='datetime'>"
      ]
     },
     "execution_count": 92,
     "metadata": {},
     "output_type": "execute_result"
    },
    {
     "data": {
      "image/png": "[encoded data removed]",
      "text/plain": [
       "<Figure size 640x480 with 1 Axes>"
      ]
     },
     "metadata": {},
     "output_type": "display_data"
    }
   ],
   "source": [
    "df.query('geoname == \"España\"')['value'].plot()"
   ]
  },
  {
   "cell_type": "code",
   "execution_count": 89,
   "metadata": {},
   "outputs": [
    {
     "data": {
      "text/plain": [
       "<Axes: xlabel='year', ylabel='value'>"
      ]
     },
     "execution_count": 89,
     "metadata": {},
     "output_type": "execute_result"
    },
    {
     "data": {
      "image/png": "[encoded data removed]",
      "text/plain": [
       "<Figure size 700x350 with 1 Axes>"
      ]
     },
     "metadata": {},
     "output_type": "display_data"
    }
   ],
   "source": [
    "plt.figure(figsize=(7, 3.5))\n",
    "sns.barplot(\n",
    "    data = df.query('geoname == \"España\"'),\n",
    "    x='year', y='value'\n",
    ")"
   ]
  }
 ],
 "metadata": {
  "kernelspec": {
   "display_name": "nlp",
   "language": "python",
   "name": "python3"
  },
  "language_info": {
   "codemirror_mode": {
    "name": "ipython",
    "version": 3
   },
   "file_extension": ".py",
   "mimetype": "text/x-python",
   "name": "python",
   "nbconvert_exporter": "python",
   "pygments_lexer": "ipython3",
   "version": "3.1.0"
  }
 },
 "nbformat": 4,
 "nbformat_minor": 2
}
